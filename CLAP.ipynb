{
  "nbformat": 4,
  "nbformat_minor": 0,
  "metadata": {
    "colab": {
      "provenance": [],
      "gpuType": "T4"
    },
    "kernelspec": {
      "name": "python3",
      "display_name": "Python 3"
    },
    "language_info": {
      "name": "python"
    },
    "accelerator": "GPU"
  },
  "cells": [
    {
      "cell_type": "code",
      "source": [
        "pip install laion-clap"
      ],
      "metadata": {
        "id": "-2nkhRmEQdbI"
      },
      "execution_count": null,
      "outputs": []
    },
    {
      "cell_type": "code",
      "source": [
        "import numpy as np\n",
        "import librosa\n",
        "import torch\n",
        "import laion_clap\n",
        "\n",
        "# quantization\n",
        "def int16_to_float32(x):\n",
        "    return (x / 32767.0).astype(np.float32)\n",
        "\n",
        "\n",
        "def float32_to_int16(x):\n",
        "    x = np.clip(x, a_min=-1., a_max=1.)\n",
        "    return (x * 32767.).astype(np.int16)\n",
        "\n",
        "model = laion_clap.CLAP_Module(enable_fusion=True)\n",
        "model.load_ckpt('630k-fusion-best.pt') # download the default pretrained checkpoint."
      ],
      "metadata": {
        "id": "3vVBAm3mNnFh"
      },
      "execution_count": null,
      "outputs": []
    },
    {
      "cell_type": "code",
      "source": [
        "audio_file = ['/content/300_P/300_AUDIO.wav']\n",
        "audio_embeds = model.get_audio_embedding_from_filelist(audio_file)"
      ],
      "metadata": {
        "colab": {
          "base_uri": "https://localhost:8080/"
        },
        "id": "7ceV92dhReXV",
        "outputId": "75390fd6-8958-435d-b8d0-a3f6186769e2"
      },
      "execution_count": 7,
      "outputs": [
        {
          "output_type": "stream",
          "name": "stderr",
          "text": [
            "/usr/local/lib/python3.10/dist-packages/torchaudio/transforms/_transforms.py:580: UserWarning: Argument 'onesided' has been deprecated and has no influence on the behavior of this module.\n",
            "  warnings.warn(\n"
          ]
        }
      ]
    },
    {
      "cell_type": "code",
      "source": [
        "texts = [\".\thi i'm . thanks for coming in today.\ti was created to talk to people in a safe and secure environment.\tthink of me as a friend i don't judge i can't i'm a computer.\ti'm here to learn about people and would love to learn about you.\ti'll ask a few questions to get us started and please feel free to tell me anything your answers are totally confidential.\thow are you doing today.\tgood.\tthat's good.\twhere are you from originally.\tatlanta georgia.\treally.\twhy'd you move to l_a.\tum my parents are from here um.\thow do you like l_a.\ti love it.\twhat are some things you really like about l_a.\ti like the weather.\ti like the opportunities.\tum.\tyes.\thow easy was it for you to get used to living in l_a.\tum.\tit took a minute.\tsomewhat easy.\twhat are some things you don't really like about l_a.\tcongestion.\tmhm.\tthat's it.\tokay.\twhat'd you study at school.\tum i took up business and administration.\tcool.\tare you still doing that.\tuh yeah i am.\there and there i'm on a break right now but i plan on going back in the uh next semester.\twhat's your dream job.\tuh probably to open up my own business.\tawesome.\tdo you travel a lot.\tno.\twhy.\tum no specific reason i just.\tdon't travel a lot.\ti'm pretty local.\tokay.\thow often do you go back to your hometown.\tonce a year.\tnice.\tdo you consider yourself an introvert.\tcan you be a little bit more specific.\twhatever comes to your mind.\tno answer.\tokay.\t what do you do to relax.\ti like reading books i enjoy i enjoy cooking.\tum exercising is great.\tawesome.\thow are you at controlling your temper.\ti'm i'm i'm pretty good at it.\tum.\treally.\tyeah.\twhen was the last time you argued with someone and what was it about.\tum probably about.\ttwo weeks ago.\thow did you feel in that moment.\tuh frustrated.\ttell me more about that.\tum.\ti don't like bias.\tum i don't like um when someone says they're gonna do something and they don't.\tmhm.\thow close are you to them.\tuh somewhat.\thow do you know them.\tfriendship.\tokay.\twhat are some things you like to do for fun.\ti like to play sports i enjoy uh going out with friends and family.\tplaying games.\tnice.\twho's someone that's been a positive influence in your life.\tgrandparents.\tparents.\taww.\tcan you tell me about that.\tum yeah i mean they've always given me great advice.\tthey've always kept it real.\thow close are you to your family.\treal close.\tis there anything you regret.\ti would say going to college right after high school.\twhy.\twell i would've been done by now you know.\ti would have been probably out in the field.\tin the career field.\twhat made you decide to do that.\tuh taking a job off the street.\tcould you have done anything to avoid it.\ti'm sure i could've yes.\twhat's one of your most memorable experiences.\ti'm not sure.\tmaybe when i graduated from high school.\tyeah.\ti'd love to hear all about it.\twell uh i um i got my diploma.\tmy my diploma that i finished school and i met all the requirements .\thigh school.\tand i was approved to go.\tdo whatever i wanted to do.\tthat's great.\twhat's it like for you living with them.\tliving with who.\thow do you like your living situation.\tum it's alright it could be better.\tdo you have roommates.\tnot.\tno.\tthat's good.\thow easy is it for you to get a good night's sleep.\tuh it's pretty easy.\tdo you feel that way often.\tuh yes.\twhat are you like when you don't sleep well.\trepeat that.\twhat are you like when you don't sleep well.\tirritated um.\tlazy.\tdo you feel down.\tno.\tthat's good.\thave you been diagnosed with depression.\tno.\thave you ever been diagnosed with p_t_s_d.\tno.\thave you ever served in the military.\tno.\tokay.\twhen was the last time you felt really happy.\tum the other day.\ttell me more about that.\tweather was great sun was out.\tthat sounds like a great situation.\twhat do you think of today's kids.\tdifferent.\tcan you give me an example of that.\tless.\tless um.\tinterested.\t[laughter].\ti see what you mean.\twhat do you do when you're annoyed.\tuh shut down.\twhen was the last time that happened.\tuh about two weeks ago.\tmhm.\tcan you tell me about that.\tuh yeah a friend of mine was annoying me and i just.\tcut them off.\ti'm sorry.\t[laughter] it's alright.\thow do you know them.\tfriendship.\tcool.\thow would your best friend describe you.\tchocolate.\ttall.\t[laughter].\tthin.\tokay.\tokay i think i've asked everything i need to.\tthank you.\tgoodbye.\tbye bye\"]\n",
        "text_embeds = model.get_text_embedding(texts)"
      ],
      "metadata": {
        "id": "RXRKBPI5TcER"
      },
      "execution_count": 4,
      "outputs": []
    },
    {
      "cell_type": "code",
      "source": [
        "similarity = audio_embeds @ text_embeds.T"
      ],
      "metadata": {
        "id": "TUtuqLq5WpZD"
      },
      "execution_count": 5,
      "outputs": []
    },
    {
      "cell_type": "code",
      "source": [
        "similarity"
      ],
      "metadata": {
        "colab": {
          "base_uri": "https://localhost:8080/"
        },
        "id": "AyyNqMHCWsdw",
        "outputId": "dfb337af-c352-4451-faa3-39b03ca6ea3d"
      },
      "execution_count": 6,
      "outputs": [
        {
          "output_type": "execute_result",
          "data": {
            "text/plain": [
              "array([[0.17970785]], dtype=float32)"
            ]
          },
          "metadata": {},
          "execution_count": 6
        }
      ]
    },
    {
      "cell_type": "code",
      "source": [],
      "metadata": {
        "id": "T18LaAtyWvdQ"
      },
      "execution_count": null,
      "outputs": []
    }
  ]
}